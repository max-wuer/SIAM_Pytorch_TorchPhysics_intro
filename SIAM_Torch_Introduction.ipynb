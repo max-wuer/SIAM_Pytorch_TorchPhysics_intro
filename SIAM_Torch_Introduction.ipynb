{
  "nbformat": 4,
  "nbformat_minor": 0,
  "metadata": {
    "colab": {
      "provenance": []
    },
    "kernelspec": {
      "name": "python3",
      "display_name": "Python 3"
    },
    "language_info": {
      "name": "python"
    },
    "widgets": {
      "application/vnd.jupyter.widget-state+json": {
        "b121564de9e64163ab1fc6814aa0ad17": {
          "model_module": "@jupyter-widgets/controls",
          "model_name": "HBoxModel",
          "model_module_version": "1.5.0",
          "state": {
            "_dom_classes": [],
            "_model_module": "@jupyter-widgets/controls",
            "_model_module_version": "1.5.0",
            "_model_name": "HBoxModel",
            "_view_count": null,
            "_view_module": "@jupyter-widgets/controls",
            "_view_module_version": "1.5.0",
            "_view_name": "HBoxView",
            "box_style": "",
            "children": [
              "IPY_MODEL_f712685105794e43a0b22f31e88e5d39",
              "IPY_MODEL_891db7f128ab4e95a8bd2396864d0d99",
              "IPY_MODEL_df883c4f06404f98b9ea795aad21b592"
            ],
            "layout": "IPY_MODEL_decdbc74daa545d798f0317192975cb3"
          }
        },
        "f712685105794e43a0b22f31e88e5d39": {
          "model_module": "@jupyter-widgets/controls",
          "model_name": "HTMLModel",
          "model_module_version": "1.5.0",
          "state": {
            "_dom_classes": [],
            "_model_module": "@jupyter-widgets/controls",
            "_model_module_version": "1.5.0",
            "_model_name": "HTMLModel",
            "_view_count": null,
            "_view_module": "@jupyter-widgets/controls",
            "_view_module_version": "1.5.0",
            "_view_name": "HTMLView",
            "description": "",
            "description_tooltip": null,
            "layout": "IPY_MODEL_26efd94a9c7a4e9a90a88f63f770255d",
            "placeholder": "​",
            "style": "IPY_MODEL_79b82ed2a90c4d64a8d6aaedae742d33",
            "value": "Sanity Checking DataLoader 0: 100%"
          }
        },
        "891db7f128ab4e95a8bd2396864d0d99": {
          "model_module": "@jupyter-widgets/controls",
          "model_name": "FloatProgressModel",
          "model_module_version": "1.5.0",
          "state": {
            "_dom_classes": [],
            "_model_module": "@jupyter-widgets/controls",
            "_model_module_version": "1.5.0",
            "_model_name": "FloatProgressModel",
            "_view_count": null,
            "_view_module": "@jupyter-widgets/controls",
            "_view_module_version": "1.5.0",
            "_view_name": "ProgressView",
            "bar_style": "",
            "description": "",
            "description_tooltip": null,
            "layout": "IPY_MODEL_6012b5fcb0004ab783450917269cb0af",
            "max": 1,
            "min": 0,
            "orientation": "horizontal",
            "style": "IPY_MODEL_3f50105e824a41d98afc10e92be27786",
            "value": 1
          }
        },
        "df883c4f06404f98b9ea795aad21b592": {
          "model_module": "@jupyter-widgets/controls",
          "model_name": "HTMLModel",
          "model_module_version": "1.5.0",
          "state": {
            "_dom_classes": [],
            "_model_module": "@jupyter-widgets/controls",
            "_model_module_version": "1.5.0",
            "_model_name": "HTMLModel",
            "_view_count": null,
            "_view_module": "@jupyter-widgets/controls",
            "_view_module_version": "1.5.0",
            "_view_name": "HTMLView",
            "description": "",
            "description_tooltip": null,
            "layout": "IPY_MODEL_142b6cbb1c6d45fca9649e316c015857",
            "placeholder": "​",
            "style": "IPY_MODEL_dff70e5e821b4586ad5f5fe062040ba3",
            "value": " 1/1 [00:00&lt;00:00, 108.99it/s]"
          }
        },
        "decdbc74daa545d798f0317192975cb3": {
          "model_module": "@jupyter-widgets/base",
          "model_name": "LayoutModel",
          "model_module_version": "1.2.0",
          "state": {
            "_model_module": "@jupyter-widgets/base",
            "_model_module_version": "1.2.0",
            "_model_name": "LayoutModel",
            "_view_count": null,
            "_view_module": "@jupyter-widgets/base",
            "_view_module_version": "1.2.0",
            "_view_name": "LayoutView",
            "align_content": null,
            "align_items": null,
            "align_self": null,
            "border": null,
            "bottom": null,
            "display": "inline-flex",
            "flex": null,
            "flex_flow": "row wrap",
            "grid_area": null,
            "grid_auto_columns": null,
            "grid_auto_flow": null,
            "grid_auto_rows": null,
            "grid_column": null,
            "grid_gap": null,
            "grid_row": null,
            "grid_template_areas": null,
            "grid_template_columns": null,
            "grid_template_rows": null,
            "height": null,
            "justify_content": null,
            "justify_items": null,
            "left": null,
            "margin": null,
            "max_height": null,
            "max_width": null,
            "min_height": null,
            "min_width": null,
            "object_fit": null,
            "object_position": null,
            "order": null,
            "overflow": null,
            "overflow_x": null,
            "overflow_y": null,
            "padding": null,
            "right": null,
            "top": null,
            "visibility": "hidden",
            "width": "100%"
          }
        },
        "26efd94a9c7a4e9a90a88f63f770255d": {
          "model_module": "@jupyter-widgets/base",
          "model_name": "LayoutModel",
          "model_module_version": "1.2.0",
          "state": {
            "_model_module": "@jupyter-widgets/base",
            "_model_module_version": "1.2.0",
            "_model_name": "LayoutModel",
            "_view_count": null,
            "_view_module": "@jupyter-widgets/base",
            "_view_module_version": "1.2.0",
            "_view_name": "LayoutView",
            "align_content": null,
            "align_items": null,
            "align_self": null,
            "border": null,
            "bottom": null,
            "display": null,
            "flex": null,
            "flex_flow": null,
            "grid_area": null,
            "grid_auto_columns": null,
            "grid_auto_flow": null,
            "grid_auto_rows": null,
            "grid_column": null,
            "grid_gap": null,
            "grid_row": null,
            "grid_template_areas": null,
            "grid_template_columns": null,
            "grid_template_rows": null,
            "height": null,
            "justify_content": null,
            "justify_items": null,
            "left": null,
            "margin": null,
            "max_height": null,
            "max_width": null,
            "min_height": null,
            "min_width": null,
            "object_fit": null,
            "object_position": null,
            "order": null,
            "overflow": null,
            "overflow_x": null,
            "overflow_y": null,
            "padding": null,
            "right": null,
            "top": null,
            "visibility": null,
            "width": null
          }
        },
        "79b82ed2a90c4d64a8d6aaedae742d33": {
          "model_module": "@jupyter-widgets/controls",
          "model_name": "DescriptionStyleModel",
          "model_module_version": "1.5.0",
          "state": {
            "_model_module": "@jupyter-widgets/controls",
            "_model_module_version": "1.5.0",
            "_model_name": "DescriptionStyleModel",
            "_view_count": null,
            "_view_module": "@jupyter-widgets/base",
            "_view_module_version": "1.2.0",
            "_view_name": "StyleView",
            "description_width": ""
          }
        },
        "6012b5fcb0004ab783450917269cb0af": {
          "model_module": "@jupyter-widgets/base",
          "model_name": "LayoutModel",
          "model_module_version": "1.2.0",
          "state": {
            "_model_module": "@jupyter-widgets/base",
            "_model_module_version": "1.2.0",
            "_model_name": "LayoutModel",
            "_view_count": null,
            "_view_module": "@jupyter-widgets/base",
            "_view_module_version": "1.2.0",
            "_view_name": "LayoutView",
            "align_content": null,
            "align_items": null,
            "align_self": null,
            "border": null,
            "bottom": null,
            "display": null,
            "flex": "2",
            "flex_flow": null,
            "grid_area": null,
            "grid_auto_columns": null,
            "grid_auto_flow": null,
            "grid_auto_rows": null,
            "grid_column": null,
            "grid_gap": null,
            "grid_row": null,
            "grid_template_areas": null,
            "grid_template_columns": null,
            "grid_template_rows": null,
            "height": null,
            "justify_content": null,
            "justify_items": null,
            "left": null,
            "margin": null,
            "max_height": null,
            "max_width": null,
            "min_height": null,
            "min_width": null,
            "object_fit": null,
            "object_position": null,
            "order": null,
            "overflow": null,
            "overflow_x": null,
            "overflow_y": null,
            "padding": null,
            "right": null,
            "top": null,
            "visibility": null,
            "width": null
          }
        },
        "3f50105e824a41d98afc10e92be27786": {
          "model_module": "@jupyter-widgets/controls",
          "model_name": "ProgressStyleModel",
          "model_module_version": "1.5.0",
          "state": {
            "_model_module": "@jupyter-widgets/controls",
            "_model_module_version": "1.5.0",
            "_model_name": "ProgressStyleModel",
            "_view_count": null,
            "_view_module": "@jupyter-widgets/base",
            "_view_module_version": "1.2.0",
            "_view_name": "StyleView",
            "bar_color": null,
            "description_width": ""
          }
        },
        "142b6cbb1c6d45fca9649e316c015857": {
          "model_module": "@jupyter-widgets/base",
          "model_name": "LayoutModel",
          "model_module_version": "1.2.0",
          "state": {
            "_model_module": "@jupyter-widgets/base",
            "_model_module_version": "1.2.0",
            "_model_name": "LayoutModel",
            "_view_count": null,
            "_view_module": "@jupyter-widgets/base",
            "_view_module_version": "1.2.0",
            "_view_name": "LayoutView",
            "align_content": null,
            "align_items": null,
            "align_self": null,
            "border": null,
            "bottom": null,
            "display": null,
            "flex": null,
            "flex_flow": null,
            "grid_area": null,
            "grid_auto_columns": null,
            "grid_auto_flow": null,
            "grid_auto_rows": null,
            "grid_column": null,
            "grid_gap": null,
            "grid_row": null,
            "grid_template_areas": null,
            "grid_template_columns": null,
            "grid_template_rows": null,
            "height": null,
            "justify_content": null,
            "justify_items": null,
            "left": null,
            "margin": null,
            "max_height": null,
            "max_width": null,
            "min_height": null,
            "min_width": null,
            "object_fit": null,
            "object_position": null,
            "order": null,
            "overflow": null,
            "overflow_x": null,
            "overflow_y": null,
            "padding": null,
            "right": null,
            "top": null,
            "visibility": null,
            "width": null
          }
        },
        "dff70e5e821b4586ad5f5fe062040ba3": {
          "model_module": "@jupyter-widgets/controls",
          "model_name": "DescriptionStyleModel",
          "model_module_version": "1.5.0",
          "state": {
            "_model_module": "@jupyter-widgets/controls",
            "_model_module_version": "1.5.0",
            "_model_name": "DescriptionStyleModel",
            "_view_count": null,
            "_view_module": "@jupyter-widgets/base",
            "_view_module_version": "1.2.0",
            "_view_name": "StyleView",
            "description_width": ""
          }
        },
        "eafedb00e9a04437856d3f851d0e191b": {
          "model_module": "@jupyter-widgets/controls",
          "model_name": "HBoxModel",
          "model_module_version": "1.5.0",
          "state": {
            "_dom_classes": [],
            "_model_module": "@jupyter-widgets/controls",
            "_model_module_version": "1.5.0",
            "_model_name": "HBoxModel",
            "_view_count": null,
            "_view_module": "@jupyter-widgets/controls",
            "_view_module_version": "1.5.0",
            "_view_name": "HBoxView",
            "box_style": "",
            "children": [
              "IPY_MODEL_0c8e4c9df7164056ab8d61e27228a86d",
              "IPY_MODEL_8aedd6d7836b4260af2524055c1b3dae",
              "IPY_MODEL_c58d9cd0aa5a44a085773ea6d29babf4"
            ],
            "layout": "IPY_MODEL_7972f7b1f01142f583c44f429a0afdb9"
          }
        },
        "0c8e4c9df7164056ab8d61e27228a86d": {
          "model_module": "@jupyter-widgets/controls",
          "model_name": "HTMLModel",
          "model_module_version": "1.5.0",
          "state": {
            "_dom_classes": [],
            "_model_module": "@jupyter-widgets/controls",
            "_model_module_version": "1.5.0",
            "_model_name": "HTMLModel",
            "_view_count": null,
            "_view_module": "@jupyter-widgets/controls",
            "_view_module_version": "1.5.0",
            "_view_name": "HTMLView",
            "description": "",
            "description_tooltip": null,
            "layout": "IPY_MODEL_f36c760e3c6d4d5fb3770b7345cc3697",
            "placeholder": "​",
            "style": "IPY_MODEL_9bc1fa1cc174451291f630f41d2439e6",
            "value": "Epoch 0:  48%"
          }
        },
        "8aedd6d7836b4260af2524055c1b3dae": {
          "model_module": "@jupyter-widgets/controls",
          "model_name": "FloatProgressModel",
          "model_module_version": "1.5.0",
          "state": {
            "_dom_classes": [],
            "_model_module": "@jupyter-widgets/controls",
            "_model_module_version": "1.5.0",
            "_model_name": "FloatProgressModel",
            "_view_count": null,
            "_view_module": "@jupyter-widgets/controls",
            "_view_module_version": "1.5.0",
            "_view_name": "ProgressView",
            "bar_style": "",
            "description": "",
            "description_tooltip": null,
            "layout": "IPY_MODEL_22c48aa53d314c20a767fc27f62e018c",
            "max": 6001,
            "min": 0,
            "orientation": "horizontal",
            "style": "IPY_MODEL_30dc39cf474d4a4eb5e72aff1a1a9526",
            "value": 2856
          }
        },
        "c58d9cd0aa5a44a085773ea6d29babf4": {
          "model_module": "@jupyter-widgets/controls",
          "model_name": "HTMLModel",
          "model_module_version": "1.5.0",
          "state": {
            "_dom_classes": [],
            "_model_module": "@jupyter-widgets/controls",
            "_model_module_version": "1.5.0",
            "_model_name": "HTMLModel",
            "_view_count": null,
            "_view_module": "@jupyter-widgets/controls",
            "_view_module_version": "1.5.0",
            "_view_name": "HTMLView",
            "description": "",
            "description_tooltip": null,
            "layout": "IPY_MODEL_e884d6dfd8fc431ab95c3d78e64bde8b",
            "placeholder": "​",
            "style": "IPY_MODEL_4230c2e4f3c943c0b9c19af3f2554fd7",
            "value": " 2856/6001 [03:56&lt;04:20, 12.09it/s, loss=0.00481]"
          }
        },
        "7972f7b1f01142f583c44f429a0afdb9": {
          "model_module": "@jupyter-widgets/base",
          "model_name": "LayoutModel",
          "model_module_version": "1.2.0",
          "state": {
            "_model_module": "@jupyter-widgets/base",
            "_model_module_version": "1.2.0",
            "_model_name": "LayoutModel",
            "_view_count": null,
            "_view_module": "@jupyter-widgets/base",
            "_view_module_version": "1.2.0",
            "_view_name": "LayoutView",
            "align_content": null,
            "align_items": null,
            "align_self": null,
            "border": null,
            "bottom": null,
            "display": "inline-flex",
            "flex": null,
            "flex_flow": "row wrap",
            "grid_area": null,
            "grid_auto_columns": null,
            "grid_auto_flow": null,
            "grid_auto_rows": null,
            "grid_column": null,
            "grid_gap": null,
            "grid_row": null,
            "grid_template_areas": null,
            "grid_template_columns": null,
            "grid_template_rows": null,
            "height": null,
            "justify_content": null,
            "justify_items": null,
            "left": null,
            "margin": null,
            "max_height": null,
            "max_width": null,
            "min_height": null,
            "min_width": null,
            "object_fit": null,
            "object_position": null,
            "order": null,
            "overflow": null,
            "overflow_x": null,
            "overflow_y": null,
            "padding": null,
            "right": null,
            "top": null,
            "visibility": null,
            "width": "100%"
          }
        },
        "f36c760e3c6d4d5fb3770b7345cc3697": {
          "model_module": "@jupyter-widgets/base",
          "model_name": "LayoutModel",
          "model_module_version": "1.2.0",
          "state": {
            "_model_module": "@jupyter-widgets/base",
            "_model_module_version": "1.2.0",
            "_model_name": "LayoutModel",
            "_view_count": null,
            "_view_module": "@jupyter-widgets/base",
            "_view_module_version": "1.2.0",
            "_view_name": "LayoutView",
            "align_content": null,
            "align_items": null,
            "align_self": null,
            "border": null,
            "bottom": null,
            "display": null,
            "flex": null,
            "flex_flow": null,
            "grid_area": null,
            "grid_auto_columns": null,
            "grid_auto_flow": null,
            "grid_auto_rows": null,
            "grid_column": null,
            "grid_gap": null,
            "grid_row": null,
            "grid_template_areas": null,
            "grid_template_columns": null,
            "grid_template_rows": null,
            "height": null,
            "justify_content": null,
            "justify_items": null,
            "left": null,
            "margin": null,
            "max_height": null,
            "max_width": null,
            "min_height": null,
            "min_width": null,
            "object_fit": null,
            "object_position": null,
            "order": null,
            "overflow": null,
            "overflow_x": null,
            "overflow_y": null,
            "padding": null,
            "right": null,
            "top": null,
            "visibility": null,
            "width": null
          }
        },
        "9bc1fa1cc174451291f630f41d2439e6": {
          "model_module": "@jupyter-widgets/controls",
          "model_name": "DescriptionStyleModel",
          "model_module_version": "1.5.0",
          "state": {
            "_model_module": "@jupyter-widgets/controls",
            "_model_module_version": "1.5.0",
            "_model_name": "DescriptionStyleModel",
            "_view_count": null,
            "_view_module": "@jupyter-widgets/base",
            "_view_module_version": "1.2.0",
            "_view_name": "StyleView",
            "description_width": ""
          }
        },
        "22c48aa53d314c20a767fc27f62e018c": {
          "model_module": "@jupyter-widgets/base",
          "model_name": "LayoutModel",
          "model_module_version": "1.2.0",
          "state": {
            "_model_module": "@jupyter-widgets/base",
            "_model_module_version": "1.2.0",
            "_model_name": "LayoutModel",
            "_view_count": null,
            "_view_module": "@jupyter-widgets/base",
            "_view_module_version": "1.2.0",
            "_view_name": "LayoutView",
            "align_content": null,
            "align_items": null,
            "align_self": null,
            "border": null,
            "bottom": null,
            "display": null,
            "flex": "2",
            "flex_flow": null,
            "grid_area": null,
            "grid_auto_columns": null,
            "grid_auto_flow": null,
            "grid_auto_rows": null,
            "grid_column": null,
            "grid_gap": null,
            "grid_row": null,
            "grid_template_areas": null,
            "grid_template_columns": null,
            "grid_template_rows": null,
            "height": null,
            "justify_content": null,
            "justify_items": null,
            "left": null,
            "margin": null,
            "max_height": null,
            "max_width": null,
            "min_height": null,
            "min_width": null,
            "object_fit": null,
            "object_position": null,
            "order": null,
            "overflow": null,
            "overflow_x": null,
            "overflow_y": null,
            "padding": null,
            "right": null,
            "top": null,
            "visibility": null,
            "width": null
          }
        },
        "30dc39cf474d4a4eb5e72aff1a1a9526": {
          "model_module": "@jupyter-widgets/controls",
          "model_name": "ProgressStyleModel",
          "model_module_version": "1.5.0",
          "state": {
            "_model_module": "@jupyter-widgets/controls",
            "_model_module_version": "1.5.0",
            "_model_name": "ProgressStyleModel",
            "_view_count": null,
            "_view_module": "@jupyter-widgets/base",
            "_view_module_version": "1.2.0",
            "_view_name": "StyleView",
            "bar_color": null,
            "description_width": ""
          }
        },
        "e884d6dfd8fc431ab95c3d78e64bde8b": {
          "model_module": "@jupyter-widgets/base",
          "model_name": "LayoutModel",
          "model_module_version": "1.2.0",
          "state": {
            "_model_module": "@jupyter-widgets/base",
            "_model_module_version": "1.2.0",
            "_model_name": "LayoutModel",
            "_view_count": null,
            "_view_module": "@jupyter-widgets/base",
            "_view_module_version": "1.2.0",
            "_view_name": "LayoutView",
            "align_content": null,
            "align_items": null,
            "align_self": null,
            "border": null,
            "bottom": null,
            "display": null,
            "flex": null,
            "flex_flow": null,
            "grid_area": null,
            "grid_auto_columns": null,
            "grid_auto_flow": null,
            "grid_auto_rows": null,
            "grid_column": null,
            "grid_gap": null,
            "grid_row": null,
            "grid_template_areas": null,
            "grid_template_columns": null,
            "grid_template_rows": null,
            "height": null,
            "justify_content": null,
            "justify_items": null,
            "left": null,
            "margin": null,
            "max_height": null,
            "max_width": null,
            "min_height": null,
            "min_width": null,
            "object_fit": null,
            "object_position": null,
            "order": null,
            "overflow": null,
            "overflow_x": null,
            "overflow_y": null,
            "padding": null,
            "right": null,
            "top": null,
            "visibility": null,
            "width": null
          }
        },
        "4230c2e4f3c943c0b9c19af3f2554fd7": {
          "model_module": "@jupyter-widgets/controls",
          "model_name": "DescriptionStyleModel",
          "model_module_version": "1.5.0",
          "state": {
            "_model_module": "@jupyter-widgets/controls",
            "_model_module_version": "1.5.0",
            "_model_name": "DescriptionStyleModel",
            "_view_count": null,
            "_view_module": "@jupyter-widgets/base",
            "_view_module_version": "1.2.0",
            "_view_name": "StyleView",
            "description_width": ""
          }
        }
      }
    }
  },
  "cells": [
    {
      "cell_type": "markdown",
      "source": [
        "Install TorchPysics library"
      ],
      "metadata": {
        "id": "Vu7olKn7W3lC"
      }
    },
    {
      "cell_type": "code",
      "execution_count": null,
      "metadata": {
        "id": "sxGnKkP9O1ys"
      },
      "outputs": [],
      "source": [
        "!pip install torchaudio==0.13.0\n",
        "!pip install torchvision==0.14.0\n",
        "!pip install torchphysics"
      ]
    },
    {
      "cell_type": "code",
      "source": [
        "import torch\n",
        "import torchphysics as tp\n",
        "import pytorch_lightning as pl"
      ],
      "metadata": {
        "id": "D69k11zx8gnL"
      },
      "execution_count": 3,
      "outputs": []
    },
    {
      "cell_type": "markdown",
      "source": [
        "# PyTorch - Fully Connected Feed Forward Neural Network"
      ],
      "metadata": {
        "id": "CzD98EX48VzV"
      }
    },
    {
      "cell_type": "code",
      "source": [
        "class FCFFNN(torch.nn.Module):\n",
        "    def __init__(self):\n",
        "        super().__init__()\n",
        "        self.call = torch.nn.Sequential(\n",
        "            torch.nn.Linear(2, 5),\n",
        "            torch.nn.Softplus(),\n",
        "            torch.nn.Linear(5, 8),\n",
        "            torch.nn.Tanh(),\n",
        "            torch.nn.Linear(8, 3),\n",
        "            torch.nn.Sigmoid(),\n",
        "            torch.nn.Linear(3, 1)\n",
        "        )\n",
        "\n",
        "    def forward(self, x):\n",
        "        return self.call(x)"
      ],
      "metadata": {
        "id": "6ZLXIpG48lpj"
      },
      "execution_count": 3,
      "outputs": []
    },
    {
      "cell_type": "markdown",
      "source": [
        "Create an instance of FCFFNN and test basic properties of the mapping."
      ],
      "metadata": {
        "id": "rBvkPjaOLqED"
      }
    },
    {
      "cell_type": "code",
      "source": [
        "simple_model = FCFFNN()\n",
        "\n",
        "print(simple_model)\n",
        "\n",
        "# access weights of matrix and bias-vector of first linear component\n",
        "print(simple_model.call[0].weight)\n",
        "print(simple_model.call[0].bias)\n",
        "\n",
        "# generate a tensor\n",
        "p = torch.Tensor([[0,0]])\n",
        "print(p)\n",
        "p.requires_grad = True\n",
        "print(p)\n",
        "\n",
        "# evaluate the network\n",
        "test_eval = simple_model.forward(p)\n",
        "print(test_eval)\n",
        "\n",
        "# compute a (pathologic) gradient evaluation\n",
        "test_grad =  torch.autograd.grad(test_eval, p, retain_graph=True)\n",
        "print(test_grad)\n",
        "\n",
        "# towards training/calibration the gradient w.r.t. the weights is relevant\n",
        "test_grad_weight = torch.autograd.grad(test_eval,  [simple_model.call[0].weight, simple_model.call[0].bias])\n",
        "print(test_grad_weight)"
      ],
      "metadata": {
        "id": "U73JOuX0Lw70"
      },
      "execution_count": null,
      "outputs": []
    },
    {
      "cell_type": "markdown",
      "source": [
        "Workshop material including lecture notes, exercises (including the typical handwritten digits learning task using MNIST dataset; classification task bees vs ants data inclusive, ...) and sparse solutions available at https://github.com/Flo-Wo/DeepLearningWorkshop2023"
      ],
      "metadata": {
        "id": "flDpWni0PIwc"
      }
    },
    {
      "cell_type": "markdown",
      "source": [
        "# TorchPhysics\n",
        "Based on exercises from a Workshop. Material including slides, exercises and solution proposals at - https://github.com/TomF98/torchphysics/tree/KoMSO-Workshop"
      ],
      "metadata": {
        "id": "o1HRCm7xEtIG"
      }
    },
    {
      "cell_type": "markdown",
      "source": [
        "Solve 2D Laplace Equation on Unit-Ball. That is\n",
        "\n",
        "\\begin{align*}\n",
        "  \\Delta u =& f \\qquad \\text{on }\\Omega,\\\\\n",
        "   u=& g \\qquad \\text{on } \\partial\\Omega,\n",
        "\\end{align*}\n",
        "\n",
        "where for this example, we choose $$\\Omega = \\{x\\in\\mathbb{R} : \\|x\\|_2<1 \\}$$ and $$f\\colon\\mathbb{R}^2→\\mathbb{R};\\; (x,y)\\mapsto 4 \\cos(x^2+y^2-1)-4(x^2+y^2)\\sin(x^2+y^2-1).$$\n",
        "The solution to this Poisson -Dirichlet Problem can be represented in closed form, and is given by the mapping\n",
        "$$u\\colon(x,y)\\mapsto \\sin(x^2+y^2-1).$$"
      ],
      "metadata": {
        "id": "wfWUiiU-W2Qr"
      }
    },
    {
      "cell_type": "code",
      "source": [
        "X = tp.spaces.R2('x')\n",
        "U = tp.spaces.R1('u')\n",
        "\n",
        "omega = tp.domains.Circle(X, [0,0], 1)"
      ],
      "metadata": {
        "id": "Jab8ceXgYrPd"
      },
      "execution_count": 67,
      "outputs": []
    },
    {
      "cell_type": "markdown",
      "source": [
        "Generate the model. That is a fully connected neural network (FCN)."
      ],
      "metadata": {
        "id": "acnlHtIxcfer"
      }
    },
    {
      "cell_type": "code",
      "source": [
        "model = tp.models.FCN(input_space=X,\n",
        "                      output_space=U,\n",
        "                      hidden=(50,50,50),\n",
        "                      activations=torch.nn.Tanh(),\n",
        "                      xavier_gains=1.0)\n",
        "\n",
        "weight_pde = 1.0\n",
        "weight_bound = 50.0\n",
        "weight_data = 50.0"
      ],
      "metadata": {
        "id": "Yj_zzs-bc38_"
      },
      "execution_count": 68,
      "outputs": []
    },
    {
      "cell_type": "markdown",
      "source": [
        "For training we want to minimize a loss functional of overall type\n",
        "\n",
        "\\begin{align*}\n",
        "  \\mathcal{L}(u) & = λ_1 \\mathcal{L}_{\\text{boundary}}(u) + λ_2\\mathcal{L}_{\\text{pde}}(u) + λ_3\\mathcal{L}_{\\text{data}}(u),\n",
        "\\end{align*}\n",
        "where $\\lambda_i\\geq 0$. The individual loss components are given by\n",
        "\\begin{align*}\n",
        "  \\mathcal{L}_{\\text{boundary}}(u) & =  \\sum_{i} |u(x_i)-g(x_i)|^2, \\qquad x_i \\in \\partial\\Omega, \\\\\n",
        "  \\mathcal{L}_{\\text{pde}}(u) &= \\sum_i |\\mathcal{F}(u)(x)|^2, \\qquad x_i\\in\\Omega, \\text{ and } \\mathcal{F} \\text{ the pde operator,}\\\\\n",
        "  \\mathcal{L}_{\\text{data}}(u) & = \\sum_i |u(x_i) - y_i|^2, \\qquad x_i\\in\\Omega\\cup\\partial\\Omega \\text{ and } (x_i,y_i) \\text{ is a labeled pair.}\n",
        "\\end{align*}\n",
        "\n",
        "\n",
        "For the evaluation of $\\mathcal{L}_{\\text{boundary}}$ and $\\mathcal{L}_{\\text{pde}}$ we need points/mesh. This is done along so called *collocation points*. There is some freedom - theoretically a distribution according to an particle system can be derived - however here we compare different variations of the above loss functional.\n",
        "\n",
        "#  PDE Loss Component - the physically driven part"
      ],
      "metadata": {
        "id": "eXNzOjRkc40l"
      }
    },
    {
      "cell_type": "code",
      "source": [
        "inner_sampler = tp.samplers.RandomUniformSampler(omega, n_points=4000)\n",
        "bound_sampler = tp.samplers.GridSampler(omega.boundary, n_points=250)\n",
        "\n",
        "def boundary_residual(u, x):\n",
        "    return u - 0.0\n",
        "\n",
        "def pde_residual(u, x):\n",
        "    laplace = tp.utils.laplacian(u, x)\n",
        "    out_shape = laplace.shape\n",
        "    norm_square = torch.reshape(torch.norm(x, dim=1)**2, out_shape)\n",
        "    f = 4 * torch.cos(norm_square - 1) - 4 * norm_square * torch.sin(norm_square - 1)\n",
        "    return laplace - f\n",
        "\n",
        "boundary_cond = tp.conditions.PINNCondition(model, bound_sampler, boundary_residual, weight=weight_bound)\n",
        "pde_cond = tp.conditions.PINNCondition(model, inner_sampler, pde_residual, weight=1.0)"
      ],
      "metadata": {
        "id": "puXRpMx-lWwS"
      },
      "execution_count": 69,
      "outputs": []
    },
    {
      "cell_type": "markdown",
      "source": [
        "# Data Loss Component"
      ],
      "metadata": {
        "id": "hLC0QVblLDy8"
      }
    },
    {
      "cell_type": "code",
      "source": [
        "import numpy as np\n",
        "import matplotlib.pyplot as plt\n",
        "\n",
        "def exact_solution(x):\n",
        "  return np.sin(np.linalg.norm(x)**2 - 1)\n",
        "\n",
        "# labeled data domain\n",
        "# entire domain\n",
        "data_omega = omega\n",
        "# restricted observations\n",
        "# data_omega = tp.domains.Parallelogram(X, [-0.5,-0.5], [0.5,-0.5], [-0.5,0.5])\n",
        "\n",
        "# generate points\n",
        "data_sampler = tp.samplers.PlotSampler(data_omega, 200)\n",
        "data_sampler.sample_points()\n",
        "\n",
        "# generate labels; evaluate exact solution\n",
        "coordinates_tensor = data_sampler.created_points.coordinates['x']\n",
        "coordinates_np_array = coordinates_tensor.detach().numpy()\n",
        "exact_solution_np_array = np.array([[exact_solution(p)] for p in coordinates_np_array])\n",
        "\n",
        "# convert to torchphysics.Points\n",
        "in_data_points = tp.spaces.Points(coordinates_tensor, X)\n",
        "out_data_points = tp.spaces.Points(torch.Tensor(exact_solution_np_array), U)"
      ],
      "metadata": {
        "id": "fysVBh23LHac"
      },
      "execution_count": 70,
      "outputs": []
    },
    {
      "cell_type": "markdown",
      "source": [
        "Loss Data"
      ],
      "metadata": {
        "id": "UK7lJWZm5tnp"
      }
    },
    {
      "cell_type": "code",
      "source": [
        "data_loader = tp.utils.PointsDataLoader((in_data_points, out_data_points), batch_size=max(in_data_points.shape))\n",
        "\n",
        "data_condition = tp.conditions.DataCondition(module=model,\n",
        "                                             dataloader=data_loader,\n",
        "                                             norm=2,\n",
        "                                             use_full_dataset=True,\n",
        "                                             weight=50.0)"
      ],
      "metadata": {
        "id": "GNiMXxTD5xth"
      },
      "execution_count": 71,
      "outputs": []
    },
    {
      "cell_type": "markdown",
      "source": [
        "Training"
      ],
      "metadata": {
        "id": "gYj4RAsD6ngU"
      }
    },
    {
      "cell_type": "code",
      "source": [
        "optim = tp.OptimizerSetting(optimizer_class=torch.optim.Adam, lr=0.0001)\n",
        "\n",
        "# only physics\n",
        "solver = tp.solver.Solver(train_conditions=[boundary_cond, pde_cond], optimizer_setting=optim)\n",
        "\n",
        "# only data\n",
        "# solver = tp.solver.Solver(train_conditions=[data_condition], optimizer_setting=optim)\n",
        "\n",
        "# data-physics-mix\n",
        "# solver = tp.solver.Solver(train_conditions=[boundary_cond, pde_cond, data_condition], optimizer_setting=optim)\n",
        "\n",
        "trainer = pl.Trainer(gpus=1 if torch.cuda.is_available() else None,\n",
        "                     max_steps=6000,\n",
        "                     benchmark=True,\n",
        "                     logger = False,\n",
        "                     enable_checkpointing=False)\n",
        "\n",
        "trainer.fit(solver)"
      ],
      "metadata": {
        "id": "KwXbcGVE6lha",
        "colab": {
          "base_uri": "https://localhost:8080/",
          "height": 327,
          "referenced_widgets": [
            "b121564de9e64163ab1fc6814aa0ad17",
            "f712685105794e43a0b22f31e88e5d39",
            "891db7f128ab4e95a8bd2396864d0d99",
            "df883c4f06404f98b9ea795aad21b592",
            "decdbc74daa545d798f0317192975cb3",
            "26efd94a9c7a4e9a90a88f63f770255d",
            "79b82ed2a90c4d64a8d6aaedae742d33",
            "6012b5fcb0004ab783450917269cb0af",
            "3f50105e824a41d98afc10e92be27786",
            "142b6cbb1c6d45fca9649e316c015857",
            "dff70e5e821b4586ad5f5fe062040ba3",
            "eafedb00e9a04437856d3f851d0e191b",
            "0c8e4c9df7164056ab8d61e27228a86d",
            "8aedd6d7836b4260af2524055c1b3dae",
            "c58d9cd0aa5a44a085773ea6d29babf4",
            "7972f7b1f01142f583c44f429a0afdb9",
            "f36c760e3c6d4d5fb3770b7345cc3697",
            "9bc1fa1cc174451291f630f41d2439e6",
            "22c48aa53d314c20a767fc27f62e018c",
            "30dc39cf474d4a4eb5e72aff1a1a9526",
            "e884d6dfd8fc431ab95c3d78e64bde8b",
            "4230c2e4f3c943c0b9c19af3f2554fd7"
          ]
        },
        "outputId": "0422604c-b70e-4081-bc3b-c3b5017d243b"
      },
      "execution_count": 72,
      "outputs": [
        {
          "output_type": "stream",
          "name": "stderr",
          "text": [
            "INFO:pytorch_lightning.utilities.rank_zero:GPU available: False, used: False\n",
            "INFO:pytorch_lightning.utilities.rank_zero:TPU available: False, using: 0 TPU cores\n",
            "INFO:pytorch_lightning.utilities.rank_zero:IPU available: False, using: 0 IPUs\n",
            "INFO:pytorch_lightning.utilities.rank_zero:HPU available: False, using: 0 HPUs\n",
            "INFO:pytorch_lightning.callbacks.model_summary:\n",
            "  | Name             | Type       | Params\n",
            "------------------------------------------------\n",
            "0 | train_conditions | ModuleList | 5.3 K \n",
            "1 | val_conditions   | ModuleList | 0     \n",
            "------------------------------------------------\n",
            "5.3 K     Trainable params\n",
            "0         Non-trainable params\n",
            "5.3 K     Total params\n",
            "0.021     Total estimated model params size (MB)\n"
          ]
        },
        {
          "output_type": "display_data",
          "data": {
            "text/plain": [
              "Sanity Checking: 0it [00:00, ?it/s]"
            ],
            "application/vnd.jupyter.widget-view+json": {
              "version_major": 2,
              "version_minor": 0,
              "model_id": "b121564de9e64163ab1fc6814aa0ad17"
            }
          },
          "metadata": {}
        },
        {
          "output_type": "display_data",
          "data": {
            "text/plain": [
              "Training: 0it [00:00, ?it/s]"
            ],
            "application/vnd.jupyter.widget-view+json": {
              "version_major": 2,
              "version_minor": 0,
              "model_id": "eafedb00e9a04437856d3f851d0e191b"
            }
          },
          "metadata": {}
        },
        {
          "output_type": "stream",
          "name": "stderr",
          "text": [
            "/usr/local/lib/python3.10/dist-packages/pytorch_lightning/trainer/call.py:48: UserWarning: Detected KeyboardInterrupt, attempting graceful shutdown...\n",
            "  rank_zero_warn(\"Detected KeyboardInterrupt, attempting graceful shutdown...\")\n"
          ]
        }
      ]
    },
    {
      "cell_type": "markdown",
      "source": [
        "# Plotting\n",
        "\n",
        "The relevant domains."
      ],
      "metadata": {
        "id": "BhTzJy1imRcN"
      }
    },
    {
      "cell_type": "code",
      "source": [
        "# the entire domain\n",
        "tp.utils.scatter(X, inner_sampler)\n",
        "\n",
        "# the labeled data region\n",
        "tp.utils.scatter(X, data_sampler)"
      ],
      "metadata": {
        "id": "4Jh0l8kfTnBW"
      },
      "execution_count": null,
      "outputs": []
    },
    {
      "cell_type": "markdown",
      "source": [
        "Surface plot of approximation"
      ],
      "metadata": {
        "id": "2IUJzRAOTna3"
      }
    },
    {
      "cell_type": "code",
      "source": [
        "plot_sampler = tp.samplers.PlotSampler(plot_domain=omega,\n",
        "                                       n_points=2000)\n",
        "fig = tp.utils.plot(model, lambda u : u, plot_sampler)\n",
        "\n",
        "# sanity check for x=(0,0)\n",
        "pp = tp.problem.spaces.points.Points.from_coordinates({'x': torch.Tensor([[0,0]])})\n",
        "print(model.forward(pp))"
      ],
      "metadata": {
        "id": "ydvkEgbkpW1j"
      },
      "execution_count": null,
      "outputs": []
    },
    {
      "cell_type": "markdown",
      "source": [
        "Levelset plotting"
      ],
      "metadata": {
        "id": "xVkrklGeC4QS"
      }
    },
    {
      "cell_type": "code",
      "source": [
        "x_axis = np.linspace(-1,1,100)\n",
        "y_fix = 0.0\n",
        "\n",
        "exact_values = np.array([exact_solution([x,y_fix]) for x in x_axis])\n",
        "sample_points = tp.spaces.Points(torch.Tensor([[x, y_fix] for x in x_axis]), X)\n",
        "predicted_values = torch.squeeze(model(sample_points)).detach().numpy()\n",
        "\n",
        "plt.plot(x_axis, exact_values, color='r', linestyle='--', label='exact')\n",
        "plt.plot(x_axis, predicted_values, color='b', label='prediction')\n",
        "plt.title('Level-Set y = %2.2f' % y_fix)\n",
        "plt.xlabel('x'), plt.ylabel('u(x,y)')\n",
        "plt.legend(), plt.show()"
      ],
      "metadata": {
        "id": "HIOyPQuE-51N"
      },
      "execution_count": null,
      "outputs": []
    }
  ]
}